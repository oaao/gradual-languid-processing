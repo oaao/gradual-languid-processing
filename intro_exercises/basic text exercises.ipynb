{
 "cells": [
  {
   "cell_type": "markdown",
   "metadata": {},
   "source": [
    "# Basic Text Exercises"
   ]
  },
  {
   "cell_type": "markdown",
   "metadata": {},
   "source": [
    "## Table of Contents <a name=\"Table-of-Contents\">"
   ]
  },
  {
   "cell_type": "markdown",
   "metadata": {},
   "source": [
    "+ [Setup](#Setup)\n",
    "+ [Searching](#Searching)\n",
    "    - [Concordance](#Concordance)\n",
    "    - [Similarity](#Similarity)\n",
    "    - [Common Contexts](#Common-Contexts)\n",
    "    - [Dispersion Plots](#Dispersion-Plots)\n",
    "    - [Generating New Text](#Generating-New-Text)\n",
    "+ [Statistics](#Statistics)\n",
    "    - [Frequency Distribution](#Frequency-Distribution)\n",
    "    - [Most Common Words](#Most-Common-Words)\n",
    "    - [Characterizing Text: long words](#Long-Words)\n",
    "    - [Characterizing Text: frequently used long words](#Frequently-Used-Long-Words)\n",
    "    - [Hapax Legomena](#Hapax-Legomena)\n",
    "+ [Vocabulary](#Vocabulary)\n",
    "+ [Collocations](#Collocations)\n",
    "    - [Bigrams](#Bigrams)\n",
    "    - [Collocations](#Collocations-sub)"
   ]
  },
  {
   "cell_type": "markdown",
   "metadata": {},
   "source": [
    "## Setup"
   ]
  },
  {
   "cell_type": "markdown",
   "metadata": {},
   "source": [
    "First, let's load in some example texts from NLTK."
   ]
  },
  {
   "cell_type": "code",
   "execution_count": 1,
   "metadata": {
    "scrolled": true
   },
   "outputs": [
    {
     "name": "stdout",
     "output_type": "stream",
     "text": [
      "*** Introductory Examples for the NLTK Book ***\n",
      "Loading text1, ..., text9 and sent1, ..., sent9\n",
      "Type the name of the text or sentence to view it.\n",
      "Type: 'texts()' or 'sents()' to list the materials.\n",
      "text1: Moby Dick by Herman Melville 1851\n",
      "text2: Sense and Sensibility by Jane Austen 1811\n",
      "text3: The Book of Genesis\n",
      "text4: Inaugural Address Corpus\n",
      "text5: Chat Corpus\n",
      "text6: Monty Python and the Holy Grail\n",
      "text7: Wall Street Journal\n",
      "text8: Personals Corpus\n",
      "text9: The Man Who Was Thursday by G . K . Chesterton 1908\n"
     ]
    }
   ],
   "source": [
    "from nltk.book import *"
   ]
  },
  {
   "cell_type": "code",
   "execution_count": 2,
   "metadata": {},
   "outputs": [],
   "source": [
    "moby         = text1\n",
    "sense        = text2\n",
    "genesis      = text3\n",
    "inaugural    = text4\n",
    "chatroom     = text5\n",
    "mp_grail     = text6\n",
    "wsj          = text7\n",
    "personals    = text8\n",
    "man_thursday = text9"
   ]
  },
  {
   "cell_type": "markdown",
   "metadata": {},
   "source": [
    "[back](#Table-of-Contents)"
   ]
  },
  {
   "cell_type": "markdown",
   "metadata": {},
   "source": [
    "## Searching"
   ]
  },
  {
   "cell_type": "markdown",
   "metadata": {},
   "source": [
    "### Concordance"
   ]
  },
  {
   "cell_type": "markdown",
   "metadata": {},
   "source": [
    "`t.concordance(w)` returns all occurrences of a word `w` in a text `t` with before-and-after context.\n",
    "\n",
    "A `concordance()` lookup will build an index to speed up future lookups."
   ]
  },
  {
   "cell_type": "code",
   "execution_count": 3,
   "metadata": {
    "scrolled": true
   },
   "outputs": [
    {
     "name": "stdout",
     "output_type": "stream",
     "text": [
      "Displaying 11 of 11 matches:\n",
      "ong the former , one was of a most monstrous size . ... This came towards us , \n",
      "ON OF THE PSALMS . \" Touching that monstrous bulk of the whale or ork we have r\n",
      "ll over with a heathenish array of monstrous clubs and spears . Some were thick\n",
      "d as you gazed , and wondered what monstrous cannibal and savage could ever hav\n",
      "that has survived the flood ; most monstrous and most mountainous ! That Himmal\n",
      "they might scout at Moby Dick as a monstrous fable , or still worse and more de\n",
      "th of Radney .'\" CHAPTER 55 Of the Monstrous Pictures of Whales . I shall ere l\n",
      "ing Scenes . In connexion with the monstrous pictures of whales , I am strongly\n",
      "ere to enter upon those still more monstrous stories of them which are to be fo\n",
      "ght have been rummaged out of this monstrous cabinet there is no telling . But \n",
      "of Whale - Bones ; for Whales of a monstrous size are oftentimes cast up dead u\n"
     ]
    }
   ],
   "source": [
    "moby.concordance('monstrous')"
   ]
  },
  {
   "cell_type": "markdown",
   "metadata": {},
   "source": [
    "[back](#Table-of-Contents)"
   ]
  },
  {
   "cell_type": "markdown",
   "metadata": {},
   "source": [
    "### Similarity"
   ]
  },
  {
   "cell_type": "markdown",
   "metadata": {},
   "source": [
    "`t.similar(w)` prints words which have similar immediate contexts to those of `w`.\n",
    "\n",
    "e.g. \"a {w} size\" appears frequently, and so does \"a {x} size\", then `w` and `x` are considered **similar**."
   ]
  },
  {
   "cell_type": "markdown",
   "metadata": {},
   "source": [
    "If we compare \"similarities\" of the same word across different texts, we can also glean if and how that word has different usage senses - in Austen the word serves mainly as an intensifier, while in Melville there is a wider range of interoperability."
   ]
  },
  {
   "cell_type": "code",
   "execution_count": 4,
   "metadata": {},
   "outputs": [
    {
     "name": "stdout",
     "output_type": "stream",
     "text": [
      "true contemptible christian abundant few part mean careful puzzled\n",
      "mystifying passing curious loving wise doleful gamesome singular\n",
      "delightfully perilous fearless\n"
     ]
    }
   ],
   "source": [
    "moby.similar('monstrous')"
   ]
  },
  {
   "cell_type": "code",
   "execution_count": 5,
   "metadata": {},
   "outputs": [
    {
     "name": "stdout",
     "output_type": "stream",
     "text": [
      "very so exceedingly heartily a as good great extremely remarkably\n",
      "sweet vast amazingly\n"
     ]
    }
   ],
   "source": [
    "sense.similar('monstrous')"
   ]
  },
  {
   "cell_type": "markdown",
   "metadata": {},
   "source": [
    "[back](#Table-of-Contents)"
   ]
  },
  {
   "cell_type": "markdown",
   "metadata": {},
   "source": [
    "### Common Contexts <a name=\"Common-Contexts\">"
   ]
  },
  {
   "cell_type": "markdown",
   "metadata": {},
   "source": [
    "`t.common_contexts([w1, w2, ..., ])` show the contexts shared by a group of words."
   ]
  },
  {
   "cell_type": "markdown",
   "metadata": {},
   "source": [
    "Recalling, for example, that \"monstrous\" was used in Austen's text mainly as an intensifier, whereas in Melville it has broader usages:"
   ]
  },
  {
   "cell_type": "code",
   "execution_count": 6,
   "metadata": {},
   "outputs": [
    {
     "name": "stdout",
     "output_type": "stream",
     "text": [
      "No common contexts were found\n"
     ]
    }
   ],
   "source": [
    "moby.common_contexts(['monstrous', 'very'])"
   ]
  },
  {
   "cell_type": "code",
   "execution_count": 7,
   "metadata": {
    "scrolled": true
   },
   "outputs": [
    {
     "name": "stdout",
     "output_type": "stream",
     "text": [
      "a_pretty am_glad a_lucky is_pretty be_glad\n"
     ]
    }
   ],
   "source": [
    "sense.common_contexts(['monstrous', 'very'])"
   ]
  },
  {
   "cell_type": "markdown",
   "metadata": {},
   "source": [
    "[back](#Table-of-Contents)"
   ]
  },
  {
   "cell_type": "markdown",
   "metadata": {},
   "source": [
    "### Dispersion Plots <a name=\"Dispersion-Plots\">"
   ]
  },
  {
   "cell_type": "markdown",
   "metadata": {},
   "source": [
    "`t.dispersion_plot([w1, w2, ..., ])` generates a plot which shows the occurrences of each of a given list of words across the start-to-finish span of the text."
   ]
  },
  {
   "cell_type": "code",
   "execution_count": 10,
   "metadata": {
    "scrolled": true
   },
   "outputs": [
    {
     "data": {
      "image/png": "[encoded data removed]",
      "text/plain": [
       "<Figure size 432x288 with 1 Axes>"
      ]
     },
     "metadata": {
      "needs_background": "light"
     },
     "output_type": "display_data"
    }
   ],
   "source": [
    "%matplotlib inline\n",
    "\n",
    "from nltk.book import text1\n",
    "moby.dispersion_plot(['equator', 'island', 'sky', 'boat', 'ship'])"
   ]
  },
  {
   "cell_type": "code",
   "execution_count": 11,
   "metadata": {
    "scrolled": true
   },
   "outputs": [
    {
     "data": {
      "image/png": "[encoded data removed]",
      "text/plain": [
       "<Figure size 432x288 with 1 Axes>"
      ]
     },
     "metadata": {
      "needs_background": "light"
     },
     "output_type": "display_data"
    }
   ],
   "source": [
    "sense.dispersion_plot(['happy', 'sad', 'married'])"
   ]
  },
  {
   "cell_type": "markdown",
   "metadata": {},
   "source": [
    "[back](#Table-of-Contents)"
   ]
  },
  {
   "cell_type": "markdown",
   "metadata": {},
   "source": [
    "### Generating New Text <a name=\"Generating-New-Text\">"
   ]
  },
  {
   "cell_type": "markdown",
   "metadata": {},
   "source": [
    "`t.generate()` attempts to generate new text in the 'style' of its reference text."
   ]
  },
  {
   "cell_type": "code",
   "execution_count": 12,
   "metadata": {},
   "outputs": [
    {
     "name": "stderr",
     "output_type": "stream",
     "text": [
      "Building ngram index...\n"
     ]
    },
    {
     "name": "stdout",
     "output_type": "stream",
     "text": [
      "long , from one to the top - mast , and no coffin and went out a sea\n",
      "captain -- this peaking of the whales . , so as to preserve all his\n",
      "might had in former years abounding with them , they toil with their\n",
      "lances , strange tales of Southern whaling . at once the bravest\n",
      "Indians he was , after in vain strove to pierce the profundity . ?\n",
      "then ?\" a levelled flame of pale , And give no chance , watch him ;\n",
      "though the line , it is to be gainsaid . have been\n"
     ]
    },
    {
     "data": {
      "text/plain": [
       "'long , from one to the top - mast , and no coffin and went out a sea\\ncaptain -- this peaking of the whales . , so as to preserve all his\\nmight had in former years abounding with them , they toil with their\\nlances , strange tales of Southern whaling . at once the bravest\\nIndians he was , after in vain strove to pierce the profundity . ?\\nthen ?\" a levelled flame of pale , And give no chance , watch him ;\\nthough the line , it is to be gainsaid . have been'"
      ]
     },
     "execution_count": 12,
     "metadata": {},
     "output_type": "execute_result"
    }
   ],
   "source": [
    "moby.generate()"
   ]
  },
  {
   "cell_type": "code",
   "execution_count": 13,
   "metadata": {},
   "outputs": [
    {
     "name": "stderr",
     "output_type": "stream",
     "text": [
      "Building ngram index...\n"
     ]
    },
    {
     "name": "stdout",
     "output_type": "stream",
     "text": [
      "knew , had by this remembrance , and if , by rapid degrees , so long .\n",
      ", she could live without one another , and in her rambles . at least\n",
      "the last evening of a brother , could you know , from the first .\n",
      "Dashwood ? this gentleman himself , and must put up with a kindness\n",
      "which they are very much vexed at , for it -- and I shall keep it\n",
      "entirely . admire it ; and it is , explain the grounds , or if any\n",
      "place could give her ease , was a\n"
     ]
    },
    {
     "data": {
      "text/plain": [
       "'knew , had by this remembrance , and if , by rapid degrees , so long .\\n, she could live without one another , and in her rambles . at least\\nthe last evening of a brother , could you know , from the first .\\nDashwood ? this gentleman himself , and must put up with a kindness\\nwhich they are very much vexed at , for it -- and I shall keep it\\nentirely . admire it ; and it is , explain the grounds , or if any\\nplace could give her ease , was a'"
      ]
     },
     "execution_count": 13,
     "metadata": {},
     "output_type": "execute_result"
    }
   ],
   "source": [
    "sense.generate()"
   ]
  },
  {
   "cell_type": "code",
   "execution_count": 14,
   "metadata": {
    "scrolled": true
   },
   "outputs": [
    {
     "name": "stderr",
     "output_type": "stream",
     "text": [
      "Building ngram index...\n"
     ]
    },
    {
     "name": "stdout",
     "output_type": "stream",
     "text": [
      "here !! - m - canada with cam girls pm me baby U109 .. get the hell\n",
      "aint JOIN I am PART lmao U5 i hate to see me , U111 ? The Offspring -\n",
      "Come Out Swinging ... . 2 ****** Welcome to #talkcity_adults ! the\n",
      "heck is that a roaring column of flame streaks out of uniform . I dont\n",
      "know how thats facilitated . chat ? .. but hey , a / f / FL pics ,\n",
      "wanna chat pm me Whaaa ? amy have offended him ? ACTION this song is\n",
      "so good night good u\n"
     ]
    },
    {
     "data": {
      "text/plain": [
       "'here !! - m - canada with cam girls pm me baby U109 .. get the hell\\naint JOIN I am PART lmao U5 i hate to see me , U111 ? The Offspring -\\nCome Out Swinging ... . 2 ****** Welcome to #talkcity_adults ! the\\nheck is that a roaring column of flame streaks out of uniform . I dont\\nknow how thats facilitated . chat ? .. but hey , a / f / FL pics ,\\nwanna chat pm me Whaaa ? amy have offended him ? ACTION this song is\\nso good night good u'"
      ]
     },
     "execution_count": 14,
     "metadata": {},
     "output_type": "execute_result"
    }
   ],
   "source": [
    "chatroom.generate()"
   ]
  },
  {
   "cell_type": "markdown",
   "metadata": {},
   "source": [
    "[back](#Table-of-Contents)"
   ]
  },
  {
   "cell_type": "markdown",
   "metadata": {},
   "source": [
    "## Statistics"
   ]
  },
  {
   "cell_type": "markdown",
   "metadata": {},
   "source": [
    "### Frequency Distribution <a name=\"Frequency-Distribution\">"
   ]
  },
  {
   "cell_type": "markdown",
   "metadata": {},
   "source": [
    "NLTK's `FreqDist` can be used to examine frequency distribution within a text."
   ]
  },
  {
   "cell_type": "code",
   "execution_count": 50,
   "metadata": {},
   "outputs": [
    {
     "data": {
      "text/plain": [
       "FreqDist({',': 18713, 'the': 13721, '.': 6862, 'of': 6536, 'and': 6024, 'a': 4569, 'to': 4542, ';': 4072, 'in': 3916, 'that': 2982, ...})"
      ]
     },
     "execution_count": 50,
     "metadata": {},
     "output_type": "execute_result"
    }
   ],
   "source": [
    "from nltk import FreqDist\n",
    "\n",
    "fd = FreqDist(moby)\n",
    "fd"
   ]
  },
  {
   "cell_type": "markdown",
   "metadata": {},
   "source": [
    "[back](#Table-of-Contents)"
   ]
  },
  {
   "cell_type": "markdown",
   "metadata": {},
   "source": [
    "### Most Common Words <a name=\"Most-Common-Words\">"
   ]
  },
  {
   "cell_type": "markdown",
   "metadata": {},
   "source": [
    "`FreqDist(t).most_common(n)` can be called to retrieve the `n` most common tokens in a given text."
   ]
  },
  {
   "cell_type": "code",
   "execution_count": 51,
   "metadata": {},
   "outputs": [
    {
     "data": {
      "text/plain": [
       "[(',', 18713), ('the', 13721), ('.', 6862), ('of', 6536), ('and', 6024)]"
      ]
     },
     "execution_count": 51,
     "metadata": {},
     "output_type": "execute_result"
    }
   ],
   "source": [
    "fd.most_common(5)"
   ]
  },
  {
   "cell_type": "markdown",
   "metadata": {},
   "source": [
    "[back](#Table-of-Contents)"
   ]
  },
  {
   "cell_type": "markdown",
   "metadata": {},
   "source": [
    "### Characterizing Text: long words <a name=\"Long-Words\">"
   ]
  },
  {
   "cell_type": "markdown",
   "metadata": {},
   "source": [
    "If we look at the longer words in a given text, can we begin to infer anything new about the text?"
   ]
  },
  {
   "cell_type": "code",
   "execution_count": 52,
   "metadata": {},
   "outputs": [],
   "source": [
    "def find_long_words(text, min_length, min_freq=1):\n",
    "    \n",
    "    t = set(text)a\n",
    "    f = FreqDist(text)\n",
    "    \n",
    "    return sorted([w for w in t if len(w) >= min_length and f[w] >= min_freq])"
   ]
  },
  {
   "cell_type": "code",
   "execution_count": 71,
   "metadata": {},
   "outputs": [
    {
     "data": {
      "text/plain": [
       "'acknowledgments, companionableness, congratulations, connoisseurship, conscientiously, disappointments, disinterestedness, disqualifications, disrespectfully, dissatisfaction, enfranchisement, incomprehensible, inconsiderately, inquisitiveness, instantaneously, misapprehension, misconstruction, proportionately, representations, unobtrusiveness'"
      ]
     },
     "execution_count": 71,
     "metadata": {},
     "output_type": "execute_result"
    }
   ],
   "source": [
    "', '.join(find_long_words(sense, 15))"
   ]
  },
  {
   "cell_type": "code",
   "execution_count": 72,
   "metadata": {
    "scrolled": true
   },
   "outputs": [
    {
     "data": {
      "text/plain": [
       "'Bibliographical, CIRCUMNAVIGATION, Ehrenbreitstein, Mephistophelean, Physiognomically, amphitheatrical, apprehensiveness, archiepiscopacy, authoritatively, cannibalistically, characteristically, characteristics, circumnavigated, circumnavigating, circumnavigation, circumnavigations, comfortableness, comprehensively, comprehensiveness, conscientiously, disembowelments, dissatisfaction, hermaphroditical, heterogeneously, indiscriminately, indispensableness, individualities, individualizing, indomitableness, inoffensiveness, instantaneously, interchangeably, internationally, interrogatively, intolerableness, irresistibleness, miscellaneously, multitudinously, notwithstanding, passionlessness, perpendicularly, philanthropists, philosophically, phosphorescence, phrenologically, physiognomically, picturesqueness, preternaturalness, responsibilities, simultaneousness, skrimshandering, subterraneousness, superfluousness, supernaturalism, supernaturalness, superstitiously, superstitiousness, sympathetically, systematization, thoughtlessness, uncatastrophied, unceremoniously, uncomfortableness, uncompromisedness, unconditionally, unconsciousness, undiscriminating, uninterpenetratingly, unprecedentedly, unsophisticated, unsurrenderable, untraditionally'"
      ]
     },
     "execution_count": 72,
     "metadata": {},
     "output_type": "execute_result"
    }
   ],
   "source": [
    "', '.join(find_long_words(moby, 15))"
   ]
  },
  {
   "cell_type": "code",
   "execution_count": 73,
   "metadata": {},
   "outputs": [
    {
     "data": {
      "text/plain": [
       "'Administrations, Notwithstanding, RESPONSIBILITIES, Representatives, accomplishments, administrations, antiphilosophists, appropriateness, comprehensively, congratulations, conscientiously, constitutionally, contradistinction, differentiating, discountenanced, discountenancing, discriminations, disorganization, disqualification, diversification, enfranchisement, enthusiastically, entrepreneurial, experimentation, hardheartedness, inconsiderately, inconsistencies, instantaneously, instrumentalities, instrumentality, insurrectionary, interdependence, internationality, irresponsibility, misappropriation, misconstruction, misrepresentation, misunderstanding, noninterference, obstructionists, recommendations, reconsideration, reestablishment, representations, representatives, responsibilities, sentimentalizing, supergovernment, transcontinental, uncharitableness, unconstitutional, unexceptionable'"
      ]
     },
     "execution_count": 73,
     "metadata": {},
     "output_type": "execute_result"
    }
   ],
   "source": [
    "', '.join(find_long_words(inaugural, 15))"
   ]
  },
  {
   "cell_type": "code",
   "execution_count": 75,
   "metadata": {
    "scrolled": false
   },
   "outputs": [
    {
     "data": {
      "text/plain": [
       "'!!!!!!!!!!!!!!!!, !!!!!!!!!!!!!!!!!!!!!!, !!!!!!!!!!!!!!!!!!!!!!!, !!!!!!!!!!!!!!!!!!!!!!!!!!!, !!!!!!!!!!!!!!!!!!!!!!!!!!!!, !!!!!!!!!!!!!!!!!!!!!!!!!!!!!!!!!!!!!!!!!!!!!!!!!!!!!!, #talkcity_adults, (((((((((((((((, (((((((((((((((((, ((((((((((((((((((, ((((((((((((((((((((, (((((((((((((((((((((, (((((((((((((((((((((((, ((((((((((((((((((((((((, (((((((((((((((((((((((((, ((((((((((((((((((((((((((, ))))))))))))))), ))))))))))))))))), ))))))))))))))))))), ))))))))))))))))))))), )))))))))))))))))))))), )))))))))))))))))))))))))))), ))))))))))))))))))))))))))))))), --------------------, .(..(.vMp3 v1.7.4.).), .(..(.vMp3 vi.p.t.)..)., ................, .................., ..................., ...................., ........................, .............................., .A.n.a.c.?.n.?.a., //www.wunderground.com/cgi-bin/findweather/getForecast?query=95953#FIR, <3333333333333333, <33333333333333333, BAAAAALLLLLLLLIIIIIIINNNNNNNNNNN, Bloooooooooooood, HHEEYYYYYYYYYYYYYYYYYYYYYYYYYYYYYYYYYYYYYYYYYYYYYYY, HolocaustYourMom, Mooooooooooooooooooooooooooo, Nooooooooooooooo, WEEEEEEEEEEEEEEEEEE, [[[[[[[[[[[[[[[[[[, ]]]]]]]]]]]]]]]]]]]]], aaaaaaaaaaaaaaaaa, agurlwithbigguns, ahhhhhhhhhhhhhh, aiiiiiiiiiiiiiiiiiiiiiiii, antidepressants, anyyyyyyyyyyyyyyyyy, backfrontsidewaysandallaroundtheworld, bbbbbyyyyyyyeeeeeeeee, boooooooooooglyyyyyy, bwahahahahahahahahahaha, byeeeeeeeeeeeee, cooooooooookiiiiiiiiiiiieeeeeeeeeeee, eeeeeeeeewwwwwwww, grrrrrrrrrrrrrrrrr, hahahahahahahahahahahahahahahaha, hearthechatters, heeheeheeheeheehee, heyyyyyyyyyyyyyy, http://forums.talkcity.com/tc-adults/start , http://www.shadowbots.com, huuuuuuuuuuuuuuuuuuuuuuuuuuuuuuuuuuugZ, iamahotniplickme, iamahotnipwithhotnippics, iamahotnipwithpics, lllllllliiiiiiiiiikeee, llloooozzzzeeerrrrzzzzzzzzzzzzzzzzzzzzzzzzzzzzzzzzzzzzzzzzzzzzzzzzz, miiiiiiiiiiiiinnnnnnnnnnneeeeeeeeee, miiiiiinnnnnnnnnneeeeeeee, mikeeeeeeeeeeeeeeeeeeeeeeeeee, mmmmmmmmiiiiiiiiinnnnnnnnneeeeeeee, muahssssssssssssssss, muahsssssssssssssssssss, niteeeeeeeeeeeeeeeeeee, noooooooooooooo, ohhhhhhhhhhhhhhhh, oooooooooooglyyyyyyyy, oooooooooooooonnnnnnnnnnnneeeeeeeeeeeeeeesssssssss, peace-and-quiet, raaaaaaaaaaaaaaaaaaaaaaaaaaaaa, tatatatnanaantatat, technologically, weeeeeeeeeeeeeeee, weeeeeeeeeeeeeeeeeeeeeeeeed, wheeeeeeeeeeeeeeeeeeeeeeeeeeeeeeeeee, whoaaaaaaaaaaaa, woooooooooaaaahhhhhhhhhhhh, wooooooooooooohoooooooooooooooo, www.Wunderground.com, yuuuuuuuuuuuummmmmmmmmmmm'"
      ]
     },
     "execution_count": 75,
     "metadata": {},
     "output_type": "execute_result"
    }
   ],
   "source": [
    "', '.join(find_long_words(chatroom, 15))"
   ]
  },
  {
   "cell_type": "markdown",
   "metadata": {},
   "source": [
    "[back](#Table-of-Contents)"
   ]
  },
  {
   "cell_type": "markdown",
   "metadata": {},
   "source": [
    "### Characterizing Text: frequently used long words <a name=\"Frequently-Used-Long-Words\">"
   ]
  },
  {
   "cell_type": "markdown",
   "metadata": {},
   "source": [
    "Maybe a slightly better entry point is to look at words that are not only somewhat long (and therefore rarer in usage, more specific in intent) but also frequently used (and therefore more 'characteristic' of the given text)."
   ]
  },
  {
   "cell_type": "code",
   "execution_count": 77,
   "metadata": {
    "scrolled": false
   },
   "outputs": [
    {
     "data": {
      "text/plain": [
       "'Nantucketer, Nevertheless, afterwards, altogether, blacksmith, circumstance, circumstances, completely, concerning, considerable, considering, continually, difference, disappeared, encountered, especially, everything, exceedingly, forecastle, harpooneer, harpooneers, horizontal, impossible, marvellous, nevertheless, originally, particular, previously, prodigious, scientific, spermaceti, themselves, unaccountable, understand'"
      ]
     },
     "execution_count": 77,
     "metadata": {},
     "output_type": "execute_result"
    }
   ],
   "source": [
    "', '.join(find_long_words(moby, 10, min_freq=15))"
   ]
  },
  {
   "cell_type": "code",
   "execution_count": 78,
   "metadata": {
    "scrolled": true
   },
   "outputs": [
    {
     "data": {
      "text/plain": [
       "'Devonshire, Middletons, Willoughby, acquaintance, acquainted, admiration, affectionate, affliction, afterwards, alteration, appearance, astonishment, attachment, cheerfulness, circumstance, circumstances, comfortable, compassion, confidence, connection, consequence, considerable, considered, conversation, conviction, countenance, delightful, determined, difference, difficulties, difficulty, disappointed, disappointment, disposition, engagement, especially, everything, exceedingly, expectation, friendship, immediately, importance, impossible, inclination, indifference, indifferent, information, intelligence, interesting, invitation, melancholy, observation, opportunity, particular, particularly, particulars, recollection, resolution, satisfaction, tenderness, themselves, understand, understanding, unfortunate'"
      ]
     },
     "execution_count": 78,
     "metadata": {},
     "output_type": "execute_result"
    }
   ],
   "source": [
    "', '.join(find_long_words(sense, 10, min_freq=15))"
   ]
  },
  {
   "cell_type": "code",
   "execution_count": 79,
   "metadata": {
    "scrolled": true
   },
   "outputs": [
    {
     "data": {
      "text/plain": [
       "'Administration, Constitution, Government, Providence, Washington, accomplished, administration, advancement, advantages, agriculture, authorities, challenges, circumstances, citizenship, civilization, commercial, communities, conditions, confidence, conscience, consequences, consideration, considered, constantly, constitutional, construction, continuance, controversies, conviction, cooperation, countrymen, department, departments, destruction, determination, determined, development, difference, differences, difficulties, discussion, distinguished, encouragement, enforcement, enlightened, enterprise, especially, established, establishment, everywhere, expenditures, experience, experiment, expression, faithfully, foundations, friendship, generation, generations, government, governments, heretofore, importance, improvement, increasing, independence, independent, individual, individuals, industrial, institutions, instrument, intelligence, intercourse, international, jurisdiction, leadership, legislation, legislative, legitimate, maintained, maintaining, maintenance, manufactures, obligation, obligations, opportunity, organization, patriotism, performance, population, practicable, predecessor, prescribed, preservation, principles, privileges, production, productive, prosperity, prosperous, protection, reasonable, republican, respective, responsibilities, responsibility, responsible, revolution, satisfaction, sentiments, settlement, sovereignty, strengthen, strengthened, sufficient, themselves, throughout, understand, understanding'"
      ]
     },
     "execution_count": 79,
     "metadata": {},
     "output_type": "execute_result"
    }
   ],
   "source": [
    "', '.join(find_long_words(inaugural, 10, min_freq=15))"
   ]
  },
  {
   "cell_type": "code",
   "execution_count": 80,
   "metadata": {},
   "outputs": [
    {
     "data": {
      "text/plain": [
       "'#14-19teens, #talkcity_adults'"
      ]
     },
     "execution_count": 80,
     "metadata": {},
     "output_type": "execute_result"
    }
   ],
   "source": [
    "', '.join(find_long_words(chatroom, 10, min_freq=15))"
   ]
  },
  {
   "cell_type": "markdown",
   "metadata": {},
   "source": [
    "[back](#Table-of-Contents)"
   ]
  },
  {
   "cell_type": "markdown",
   "metadata": {},
   "source": [
    "### Hapax Legomena"
   ]
  },
  {
   "cell_type": "markdown",
   "metadata": {},
   "source": [
    "A *hapax legomenon* is a word which only occurs once in a given context - this could be a single text, an entire author's oeuvre, or even the entire written record of a language). "
   ]
  },
  {
   "cell_type": "code",
   "execution_count": 95,
   "metadata": {},
   "outputs": [],
   "source": [
    "def find_hapax_legomena(text):\n",
    "    \n",
    "    t = text\n",
    "    f = FreqDist(t)\n",
    "    \n",
    "    return sorted([w for w in t if f[w] == 1])"
   ]
  },
  {
   "cell_type": "code",
   "execution_count": 100,
   "metadata": {},
   "outputs": [
    {
     "data": {
      "text/plain": [
       "9002"
      ]
     },
     "execution_count": 100,
     "metadata": {},
     "output_type": "execute_result"
    }
   ],
   "source": [
    "len(find_hapax_legomena(moby))"
   ]
  },
  {
   "cell_type": "markdown",
   "metadata": {},
   "source": [
    "We can easily determine the proportional presence of *hapax legomena* for a given text:"
   ]
  },
  {
   "cell_type": "code",
   "execution_count": 107,
   "metadata": {
    "scrolled": true
   },
   "outputs": [
    {
     "name": "stdout",
     "output_type": "stream",
     "text": [
      "3.45%\n"
     ]
    }
   ],
   "source": [
    "print(f'{len(find_hapax_legomena(moby)) / len(moby):.2%}')"
   ]
  },
  {
   "cell_type": "markdown",
   "metadata": {},
   "source": [
    "[back](#Table-of-Contents)"
   ]
  },
  {
   "cell_type": "markdown",
   "metadata": {},
   "source": [
    "## Vocabulary"
   ]
  },
  {
   "cell_type": "markdown",
   "metadata": {},
   "source": [
    "`len(t)` returns the number of tokens (words, punctuation/symbols) in a given text."
   ]
  },
  {
   "cell_type": "code",
   "execution_count": 16,
   "metadata": {},
   "outputs": [
    {
     "data": {
      "text/plain": [
       "260819"
      ]
     },
     "execution_count": 16,
     "metadata": {},
     "output_type": "execute_result"
    }
   ],
   "source": [
    "len(moby)"
   ]
  },
  {
   "cell_type": "markdown",
   "metadata": {},
   "source": [
    "`set(t)` returns the unique words in a given text."
   ]
  },
  {
   "cell_type": "code",
   "execution_count": 17,
   "metadata": {},
   "outputs": [
    {
     "data": {
      "text/plain": [
       "19317"
      ]
     },
     "execution_count": 17,
     "metadata": {},
     "output_type": "execute_result"
    }
   ],
   "source": [
    "len(set(moby))"
   ]
  },
  {
   "cell_type": "markdown",
   "metadata": {},
   "source": [
    "Lexical richness can be determined by comparing the number of unique tokens with all tokens."
   ]
  },
  {
   "cell_type": "code",
   "execution_count": 37,
   "metadata": {},
   "outputs": [],
   "source": [
    "def display_lexical_richness(t):\n",
    "    lexical_richness = len(set(t)) / len(t)\n",
    "    print(f'{lexical_richness:.2%} lexical richness in {t.name}')\n",
    "    print(f'Or, the average word in this text is repeated {1 / lexical_richness:.2f} times.\\n')"
   ]
  },
  {
   "cell_type": "code",
   "execution_count": 38,
   "metadata": {},
   "outputs": [
    {
     "name": "stdout",
     "output_type": "stream",
     "text": [
      "7.41% lexical richness in Moby Dick by Herman Melville 1851\n",
      "Or, the average word in this text is repeated 13.50 times.\n",
      "\n",
      "4.83% lexical richness in Sense and Sensibility by Jane Austen 1811\n",
      "Or, the average word in this text is repeated 20.72 times.\n",
      "\n",
      "6.23% lexical richness in The Book of Genesis\n",
      "Or, the average word in this text is repeated 16.05 times.\n",
      "\n",
      "6.62% lexical richness in Inaugural Address Corpus\n",
      "Or, the average word in this text is repeated 15.11 times.\n",
      "\n",
      "13.48% lexical richness in Chat Corpus\n",
      "Or, the average word in this text is repeated 7.42 times.\n",
      "\n"
     ]
    }
   ],
   "source": [
    "display_lexical_richness(moby)\n",
    "display_lexical_richness(sense)\n",
    "display_lexical_richness(genesis)\n",
    "display_lexical_richness(inaugural)\n",
    "display_lexical_richness(chatroom)"
   ]
  },
  {
   "cell_type": "markdown",
   "metadata": {},
   "source": [
    "`t.count(w)` returns the numberof occurrences of a given word in a text.\n",
    "\n",
    "This can also be used to e.g. determine the proportion of a given word in the text."
   ]
  },
  {
   "cell_type": "code",
   "execution_count": 45,
   "metadata": {},
   "outputs": [
    {
     "data": {
      "text/plain": [
       "507"
      ]
     },
     "execution_count": 45,
     "metadata": {},
     "output_type": "execute_result"
    }
   ],
   "source": [
    "ship_count = moby.count('ship')\n",
    "\n",
    "ship_count"
   ]
  },
  {
   "cell_type": "code",
   "execution_count": 48,
   "metadata": {},
   "outputs": [
    {
     "name": "stdout",
     "output_type": "stream",
     "text": [
      "\"ship\" takes up 0.19% of Moby Dick by Herman Melville 1851\n"
     ]
    }
   ],
   "source": [
    "print(f'\"ship\" takes up {ship_count / len(moby):.2%} of {moby.name}')"
   ]
  },
  {
   "cell_type": "markdown",
   "metadata": {},
   "source": [
    "[back](#Table-of-Contents)"
   ]
  },
  {
   "cell_type": "markdown",
   "metadata": {},
   "source": [
    "## Collocations"
   ]
  },
  {
   "cell_type": "markdown",
   "metadata": {},
   "source": [
    "A *collocation* is a sequence (usually pair) of words that occur together unusually often (e.g. *red wine*, but not *the wine*).\n",
    "\n"
   ]
  },
  {
   "cell_type": "markdown",
   "metadata": {},
   "source": [
    "### Bigrams"
   ]
  },
  {
   "cell_type": "markdown",
   "metadata": {},
   "source": [
    "`bigrams([w1, w2, ..., ])` creates a list of sequential pairs from a given \"sentence\" or list of sequenced tokens."
   ]
  },
  {
   "cell_type": "code",
   "execution_count": 111,
   "metadata": {},
   "outputs": [
    {
     "data": {
      "text/plain": [
       "[('easier', 'said'), ('said', 'than'), ('than', 'done')]"
      ]
     },
     "execution_count": 111,
     "metadata": {},
     "output_type": "execute_result"
    }
   ],
   "source": [
    "list(bigrams(['easier', 'said', 'than', 'done']))"
   ]
  },
  {
   "cell_type": "markdown",
   "metadata": {},
   "source": [
    "[back](#Table-of-Contents)"
   ]
  },
  {
   "cell_type": "markdown",
   "metadata": {},
   "source": [
    "### Collocations <a name=\"Collocations-detail\">"
   ]
  },
  {
   "cell_type": "markdown",
   "metadata": {},
   "source": [
    "`t.collocation_list()` finds collocations in a given text. \n",
    "\n",
    "Specifically, it looks for bigrams that occur more often than expected based on the frequency of each individual word."
   ]
  },
  {
   "cell_type": "code",
   "execution_count": 113,
   "metadata": {},
   "outputs": [
    {
     "data": {
      "text/plain": [
       "['Sperm Whale',\n",
       " 'Moby Dick',\n",
       " 'White Whale',\n",
       " 'old man',\n",
       " 'Captain Ahab',\n",
       " 'sperm whale',\n",
       " 'Right Whale',\n",
       " 'Captain Peleg',\n",
       " 'New Bedford',\n",
       " 'Cape Horn',\n",
       " 'cried Ahab',\n",
       " 'years ago',\n",
       " 'lower jaw',\n",
       " 'never mind',\n",
       " 'Father Mapple',\n",
       " 'cried Stubb',\n",
       " 'chief mate',\n",
       " 'white whale',\n",
       " 'ivory leg',\n",
       " 'one hand']"
      ]
     },
     "execution_count": 113,
     "metadata": {},
     "output_type": "execute_result"
    }
   ],
   "source": [
    "moby.collocation_list()"
   ]
  },
  {
   "cell_type": "code",
   "execution_count": 114,
   "metadata": {},
   "outputs": [
    {
     "data": {
      "text/plain": [
       "['Colonel Brandon',\n",
       " 'Sir John',\n",
       " 'Lady Middleton',\n",
       " 'Miss Dashwood',\n",
       " 'every thing',\n",
       " 'thousand pounds',\n",
       " 'dare say',\n",
       " 'Miss Steeles',\n",
       " 'said Elinor',\n",
       " 'Miss Steele',\n",
       " 'every body',\n",
       " 'John Dashwood',\n",
       " 'great deal',\n",
       " 'Harley Street',\n",
       " 'Berkeley Street',\n",
       " 'Miss Dashwoods',\n",
       " 'young man',\n",
       " 'Combe Magna',\n",
       " 'every day',\n",
       " 'next morning']"
      ]
     },
     "execution_count": 114,
     "metadata": {},
     "output_type": "execute_result"
    }
   ],
   "source": [
    "sense.collocation_list()"
   ]
  },
  {
   "cell_type": "code",
   "execution_count": 115,
   "metadata": {},
   "outputs": [
    {
     "data": {
      "text/plain": [
       "['said unto',\n",
       " 'pray thee',\n",
       " 'thou shalt',\n",
       " 'thou hast',\n",
       " 'thy seed',\n",
       " 'years old',\n",
       " 'spake unto',\n",
       " 'thou art',\n",
       " 'LORD God',\n",
       " 'every living',\n",
       " 'God hath',\n",
       " 'begat sons',\n",
       " 'seven years',\n",
       " 'shalt thou',\n",
       " 'little ones',\n",
       " 'living creature',\n",
       " 'creeping thing',\n",
       " 'savoury meat',\n",
       " 'thirty years',\n",
       " 'every beast']"
      ]
     },
     "execution_count": 115,
     "metadata": {},
     "output_type": "execute_result"
    }
   ],
   "source": [
    "genesis.collocation_list()"
   ]
  },
  {
   "cell_type": "code",
   "execution_count": 117,
   "metadata": {},
   "outputs": [
    {
     "data": {
      "text/plain": [
       "['United States',\n",
       " 'fellow citizens',\n",
       " 'four years',\n",
       " 'years ago',\n",
       " 'Federal Government',\n",
       " 'General Government',\n",
       " 'American people',\n",
       " 'Vice President',\n",
       " 'God bless',\n",
       " 'Chief Justice',\n",
       " 'Old World',\n",
       " 'Almighty God',\n",
       " 'Fellow citizens',\n",
       " 'Chief Magistrate',\n",
       " 'every citizen',\n",
       " 'one another',\n",
       " 'fellow Americans',\n",
       " 'Indian tribes',\n",
       " 'public debt',\n",
       " 'foreign nations']"
      ]
     },
     "execution_count": 117,
     "metadata": {},
     "output_type": "execute_result"
    }
   ],
   "source": [
    "inaugural.collocation_list()"
   ]
  },
  {
   "cell_type": "markdown",
   "metadata": {},
   "source": [
    "[back](#Table-of-Contents)"
   ]
  }
 ],
 "metadata": {
  "celltoolbar": "Raw Cell Format",
  "kernelspec": {
   "display_name": "Python 3",
   "language": "python",
   "name": "python3"
  },
  "language_info": {
   "codemirror_mode": {
    "name": "ipython",
    "version": 3
   },
   "file_extension": ".py",
   "mimetype": "text/x-python",
   "name": "python",
   "nbconvert_exporter": "python",
   "pygments_lexer": "ipython3",
   "version": "3.7.3"
  }
 },
 "nbformat": 4,
 "nbformat_minor": 2
}
